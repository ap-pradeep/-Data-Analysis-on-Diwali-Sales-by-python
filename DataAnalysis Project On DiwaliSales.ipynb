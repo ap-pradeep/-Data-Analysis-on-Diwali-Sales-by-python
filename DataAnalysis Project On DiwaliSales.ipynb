{
 "cells": [
  {
   "cell_type": "markdown",
   "id": "24f97b66-cf5f-4d8c-a192-72810320d6f6",
   "metadata": {},
   "source": [
    "### Business Problem"
   ]
  },
  {
   "cell_type": "markdown",
   "id": "3e4129f3-5af1-490d-9331-99b7e2639d5d",
   "metadata": {},
   "source": [
    "#### Client wants us to analyze diwali sales data in order to understand the trend, insights,top performing products,categories,zones,so that they can prepare better to improve sales"
   ]
  },
  {
   "cell_type": "code",
   "execution_count": 1,
   "id": "07a552fc-d6df-4f0d-b0d2-856bb416dd8f",
   "metadata": {},
   "outputs": [],
   "source": [
    "# Importing the libraries\n",
    "import numpy as np\n",
    "import pandas as pd\n",
    "import matplotlib.pyplot as plt\n",
    "import seaborn as sns"
   ]
  },
  {
   "cell_type": "code",
   "execution_count": 4,
   "id": "97428809-206d-4fb3-ab3e-c8ccd08d28e6",
   "metadata": {},
   "outputs": [],
   "source": [
    "data = pd.read_csv(r\"C:\\Users\\anipi\\Desktop\\Summer Internship\\Diwali Sales Data (2).csv\" , encoding = 'unicode_escape')"
   ]
  },
  {
   "cell_type": "code",
   "execution_count": 5,
   "id": "319e9275-2057-45ef-891f-ccc3d7482a06",
   "metadata": {},
   "outputs": [
    {
     "data": {
      "text/html": [
       "<div>\n",
       "<style scoped>\n",
       "    .dataframe tbody tr th:only-of-type {\n",
       "        vertical-align: middle;\n",
       "    }\n",
       "\n",
       "    .dataframe tbody tr th {\n",
       "        vertical-align: top;\n",
       "    }\n",
       "\n",
       "    .dataframe thead th {\n",
       "        text-align: right;\n",
       "    }\n",
       "</style>\n",
       "<table border=\"1\" class=\"dataframe\">\n",
       "  <thead>\n",
       "    <tr style=\"text-align: right;\">\n",
       "      <th></th>\n",
       "      <th>User_ID</th>\n",
       "      <th>Cust_name</th>\n",
       "      <th>Product_ID</th>\n",
       "      <th>Gender</th>\n",
       "      <th>Age Group</th>\n",
       "      <th>Age</th>\n",
       "      <th>Marital_Status</th>\n",
       "      <th>State</th>\n",
       "      <th>Zone</th>\n",
       "      <th>Occupation</th>\n",
       "      <th>Product_Category</th>\n",
       "      <th>Orders</th>\n",
       "      <th>Amount</th>\n",
       "      <th>Status</th>\n",
       "      <th>unnamed1</th>\n",
       "    </tr>\n",
       "  </thead>\n",
       "  <tbody>\n",
       "    <tr>\n",
       "      <th>0</th>\n",
       "      <td>1002903.0</td>\n",
       "      <td>Sanskriti</td>\n",
       "      <td>P00125942</td>\n",
       "      <td>F</td>\n",
       "      <td>26-35</td>\n",
       "      <td>28</td>\n",
       "      <td>0.0</td>\n",
       "      <td>Maharashtra</td>\n",
       "      <td>Western</td>\n",
       "      <td>Healthcare</td>\n",
       "      <td>Auto</td>\n",
       "      <td>1.0</td>\n",
       "      <td>23952</td>\n",
       "      <td>NaN</td>\n",
       "      <td>NaN</td>\n",
       "    </tr>\n",
       "    <tr>\n",
       "      <th>1</th>\n",
       "      <td>1000732.0</td>\n",
       "      <td>Kartik</td>\n",
       "      <td>P00110942</td>\n",
       "      <td>F</td>\n",
       "      <td>26-35</td>\n",
       "      <td>35</td>\n",
       "      <td>1.0</td>\n",
       "      <td>Andhra Pradesh</td>\n",
       "      <td>Southern</td>\n",
       "      <td>Govt</td>\n",
       "      <td>Auto</td>\n",
       "      <td>3.0</td>\n",
       "      <td>23934</td>\n",
       "      <td>NaN</td>\n",
       "      <td>NaN</td>\n",
       "    </tr>\n",
       "    <tr>\n",
       "      <th>2</th>\n",
       "      <td>1001990.0</td>\n",
       "      <td>Bindu</td>\n",
       "      <td>P00118542</td>\n",
       "      <td>F</td>\n",
       "      <td>26-35</td>\n",
       "      <td>35</td>\n",
       "      <td>1.0</td>\n",
       "      <td>Uttar Pradesh</td>\n",
       "      <td>Central</td>\n",
       "      <td>Automobile</td>\n",
       "      <td>Auto</td>\n",
       "      <td>3.0</td>\n",
       "      <td>23924</td>\n",
       "      <td>NaN</td>\n",
       "      <td>NaN</td>\n",
       "    </tr>\n",
       "    <tr>\n",
       "      <th>3</th>\n",
       "      <td>1001425.0</td>\n",
       "      <td>Sudevi</td>\n",
       "      <td>P00237842</td>\n",
       "      <td>M</td>\n",
       "      <td>0-17</td>\n",
       "      <td>16</td>\n",
       "      <td>0.0</td>\n",
       "      <td>Karnataka</td>\n",
       "      <td>Southern</td>\n",
       "      <td>Construction</td>\n",
       "      <td>Auto</td>\n",
       "      <td>2.0</td>\n",
       "      <td>23912</td>\n",
       "      <td>NaN</td>\n",
       "      <td>NaN</td>\n",
       "    </tr>\n",
       "    <tr>\n",
       "      <th>4</th>\n",
       "      <td>1000588.0</td>\n",
       "      <td>Joni</td>\n",
       "      <td>P00057942</td>\n",
       "      <td>M</td>\n",
       "      <td>26-35</td>\n",
       "      <td>28</td>\n",
       "      <td>1.0</td>\n",
       "      <td>Gujarat</td>\n",
       "      <td>Western</td>\n",
       "      <td>Food Processing</td>\n",
       "      <td>Auto</td>\n",
       "      <td>2.0</td>\n",
       "      <td>23877</td>\n",
       "      <td>NaN</td>\n",
       "      <td>NaN</td>\n",
       "    </tr>\n",
       "  </tbody>\n",
       "</table>\n",
       "</div>"
      ],
      "text/plain": [
       "     User_ID  Cust_name Product_ID Gender Age Group Age  Marital_Status  \\\n",
       "0  1002903.0  Sanskriti  P00125942      F     26-35  28             0.0   \n",
       "1  1000732.0     Kartik  P00110942      F     26-35  35             1.0   \n",
       "2  1001990.0      Bindu  P00118542      F     26-35  35             1.0   \n",
       "3  1001425.0     Sudevi  P00237842      M      0-17  16             0.0   \n",
       "4  1000588.0       Joni  P00057942      M     26-35  28             1.0   \n",
       "\n",
       "            State      Zone       Occupation Product_Category  Orders Amount  \\\n",
       "0     Maharashtra   Western       Healthcare             Auto     1.0  23952   \n",
       "1  Andhra Pradesh  Southern             Govt             Auto     3.0  23934   \n",
       "2   Uttar Pradesh   Central       Automobile             Auto     3.0  23924   \n",
       "3       Karnataka  Southern     Construction             Auto     2.0  23912   \n",
       "4         Gujarat   Western  Food Processing             Auto     2.0  23877   \n",
       "\n",
       "   Status  unnamed1  \n",
       "0     NaN       NaN  \n",
       "1     NaN       NaN  \n",
       "2     NaN       NaN  \n",
       "3     NaN       NaN  \n",
       "4     NaN       NaN  "
      ]
     },
     "execution_count": 5,
     "metadata": {},
     "output_type": "execute_result"
    }
   ],
   "source": [
    "data.head()"
   ]
  },
  {
   "cell_type": "code",
   "execution_count": 6,
   "id": "5d9fe63b-5ff1-4ea0-bbcc-c04e15a68190",
   "metadata": {},
   "outputs": [],
   "source": [
    "# Creating a copy of the dataset\n",
    "df = data.copy()"
   ]
  },
  {
   "cell_type": "markdown",
   "id": "29c7fe66-109d-4ce5-9354-b12c8199e617",
   "metadata": {},
   "source": [
    "## Data Pre-processing\r\n",
    "- **Data Profiling**\r\n",
    "- **Data Cleaning**\r\n",
    "- **Data Consistancy**\r\n",
    "- **Data Formating**\r\n",
    "- **Outlier Detection & Removal**"
   ]
  },
  {
   "cell_type": "code",
   "execution_count": 7,
   "id": "88e1e76d-bc3e-4f71-b90a-2704a44d3c64",
   "metadata": {},
   "outputs": [
    {
     "data": {
      "text/plain": [
       "(11345, 15)"
      ]
     },
     "execution_count": 7,
     "metadata": {},
     "output_type": "execute_result"
    }
   ],
   "source": [
    "df.shape"
   ]
  },
  {
   "cell_type": "code",
   "execution_count": 8,
   "id": "8a77d7f2-c2c9-4c3f-943f-f2bc5f02dcdd",
   "metadata": {},
   "outputs": [
    {
     "name": "stdout",
     "output_type": "stream",
     "text": [
      "<class 'pandas.core.frame.DataFrame'>\n",
      "RangeIndex: 11345 entries, 0 to 11344\n",
      "Data columns (total 15 columns):\n",
      " #   Column            Non-Null Count  Dtype  \n",
      "---  ------            --------------  -----  \n",
      " 0   User_ID           11321 non-null  float64\n",
      " 1   Cust_name         11344 non-null  object \n",
      " 2   Product_ID        11341 non-null  object \n",
      " 3   Gender            11341 non-null  object \n",
      " 4   Age Group         11339 non-null  object \n",
      " 5   Age               11334 non-null  object \n",
      " 6   Marital_Status    11339 non-null  float64\n",
      " 7   State             11332 non-null  object \n",
      " 8   Zone              11334 non-null  object \n",
      " 9   Occupation        11339 non-null  object \n",
      " 10  Product_Category  11334 non-null  object \n",
      " 11  Orders            11342 non-null  float64\n",
      " 12  Amount            11331 non-null  object \n",
      " 13  Status            0 non-null      float64\n",
      " 14  unnamed1          0 non-null      float64\n",
      "dtypes: float64(5), object(10)\n",
      "memory usage: 1.3+ MB\n"
     ]
    }
   ],
   "source": [
    "df.info()"
   ]
  },
  {
   "cell_type": "code",
   "execution_count": 9,
   "id": "51cb79e0-90f6-4367-970c-2d745ffd31b1",
   "metadata": {},
   "outputs": [
    {
     "data": {
      "text/plain": [
       "User_ID                24\n",
       "Cust_name               1\n",
       "Product_ID              4\n",
       "Gender                  4\n",
       "Age Group               6\n",
       "Age                    11\n",
       "Marital_Status          6\n",
       "State                  13\n",
       "Zone                   11\n",
       "Occupation              6\n",
       "Product_Category       11\n",
       "Orders                  3\n",
       "Amount                 14\n",
       "Status              11345\n",
       "unnamed1            11345\n",
       "dtype: int64"
      ]
     },
     "execution_count": 9,
     "metadata": {},
     "output_type": "execute_result"
    }
   ],
   "source": [
    "# Null values\n",
    "null_values = df.isna().sum()\n",
    "null_values\n"
   ]
  },
  {
   "cell_type": "code",
   "execution_count": 10,
   "id": "bd557ace-1dd3-4d76-96be-ba1bd765a694",
   "metadata": {},
   "outputs": [
    {
     "data": {
      "text/plain": [
       "User_ID               0.211547\n",
       "Cust_name             0.008814\n",
       "Product_ID            0.035258\n",
       "Gender                0.035258\n",
       "Age Group             0.052887\n",
       "Age                   0.096959\n",
       "Marital_Status        0.052887\n",
       "State                 0.114588\n",
       "Zone                  0.096959\n",
       "Occupation            0.052887\n",
       "Product_Category      0.096959\n",
       "Orders                0.026443\n",
       "Amount                0.123402\n",
       "Status              100.000000\n",
       "unnamed1            100.000000\n",
       "dtype: float64"
      ]
     },
     "execution_count": 10,
     "metadata": {},
     "output_type": "execute_result"
    }
   ],
   "source": [
    "null_values_percentage = (df.isna().sum()/(df.shape[0]))*100\n",
    "null_values_percentage"
   ]
  },
  {
   "cell_type": "code",
   "execution_count": 11,
   "id": "e6d17ad9-67fa-4e2c-b064-dc0994bba44a",
   "metadata": {},
   "outputs": [
    {
     "data": {
      "text/html": [
       "<div>\n",
       "<style scoped>\n",
       "    .dataframe tbody tr th:only-of-type {\n",
       "        vertical-align: middle;\n",
       "    }\n",
       "\n",
       "    .dataframe tbody tr th {\n",
       "        vertical-align: top;\n",
       "    }\n",
       "\n",
       "    .dataframe thead th {\n",
       "        text-align: right;\n",
       "    }\n",
       "</style>\n",
       "<table border=\"1\" class=\"dataframe\">\n",
       "  <thead>\n",
       "    <tr style=\"text-align: right;\">\n",
       "      <th></th>\n",
       "      <th>0</th>\n",
       "      <th>1</th>\n",
       "    </tr>\n",
       "  </thead>\n",
       "  <tbody>\n",
       "    <tr>\n",
       "      <th>User_ID</th>\n",
       "      <td>24</td>\n",
       "      <td>0.211547</td>\n",
       "    </tr>\n",
       "    <tr>\n",
       "      <th>Cust_name</th>\n",
       "      <td>1</td>\n",
       "      <td>0.008814</td>\n",
       "    </tr>\n",
       "    <tr>\n",
       "      <th>Product_ID</th>\n",
       "      <td>4</td>\n",
       "      <td>0.035258</td>\n",
       "    </tr>\n",
       "    <tr>\n",
       "      <th>Gender</th>\n",
       "      <td>4</td>\n",
       "      <td>0.035258</td>\n",
       "    </tr>\n",
       "    <tr>\n",
       "      <th>Age Group</th>\n",
       "      <td>6</td>\n",
       "      <td>0.052887</td>\n",
       "    </tr>\n",
       "    <tr>\n",
       "      <th>Age</th>\n",
       "      <td>11</td>\n",
       "      <td>0.096959</td>\n",
       "    </tr>\n",
       "    <tr>\n",
       "      <th>Marital_Status</th>\n",
       "      <td>6</td>\n",
       "      <td>0.052887</td>\n",
       "    </tr>\n",
       "    <tr>\n",
       "      <th>State</th>\n",
       "      <td>13</td>\n",
       "      <td>0.114588</td>\n",
       "    </tr>\n",
       "    <tr>\n",
       "      <th>Zone</th>\n",
       "      <td>11</td>\n",
       "      <td>0.096959</td>\n",
       "    </tr>\n",
       "    <tr>\n",
       "      <th>Occupation</th>\n",
       "      <td>6</td>\n",
       "      <td>0.052887</td>\n",
       "    </tr>\n",
       "    <tr>\n",
       "      <th>Product_Category</th>\n",
       "      <td>11</td>\n",
       "      <td>0.096959</td>\n",
       "    </tr>\n",
       "    <tr>\n",
       "      <th>Orders</th>\n",
       "      <td>3</td>\n",
       "      <td>0.026443</td>\n",
       "    </tr>\n",
       "    <tr>\n",
       "      <th>Amount</th>\n",
       "      <td>14</td>\n",
       "      <td>0.123402</td>\n",
       "    </tr>\n",
       "    <tr>\n",
       "      <th>Status</th>\n",
       "      <td>11345</td>\n",
       "      <td>100.000000</td>\n",
       "    </tr>\n",
       "    <tr>\n",
       "      <th>unnamed1</th>\n",
       "      <td>11345</td>\n",
       "      <td>100.000000</td>\n",
       "    </tr>\n",
       "  </tbody>\n",
       "</table>\n",
       "</div>"
      ],
      "text/plain": [
       "                      0           1\n",
       "User_ID              24    0.211547\n",
       "Cust_name             1    0.008814\n",
       "Product_ID            4    0.035258\n",
       "Gender                4    0.035258\n",
       "Age Group             6    0.052887\n",
       "Age                  11    0.096959\n",
       "Marital_Status        6    0.052887\n",
       "State                13    0.114588\n",
       "Zone                 11    0.096959\n",
       "Occupation            6    0.052887\n",
       "Product_Category     11    0.096959\n",
       "Orders                3    0.026443\n",
       "Amount               14    0.123402\n",
       "Status            11345  100.000000\n",
       "unnamed1          11345  100.000000"
      ]
     },
     "execution_count": 11,
     "metadata": {},
     "output_type": "execute_result"
    }
   ],
   "source": [
    "pd.concat([null_values, null_values_percentage], axis =1)"
   ]
  },
  {
   "cell_type": "code",
   "execution_count": 12,
   "id": "c519d95b-da54-4ede-ae69-7546244b3a86",
   "metadata": {},
   "outputs": [
    {
     "data": {
      "text/plain": [
       "Index(['User_ID', 'Cust_name', 'Product_ID', 'Gender', 'Age Group', 'Age',\n",
       "       'Marital_Status', 'State', 'Zone', 'Occupation', 'Product_Category',\n",
       "       'Orders', 'Amount', 'Status', 'unnamed1'],\n",
       "      dtype='object')"
      ]
     },
     "execution_count": 12,
     "metadata": {},
     "output_type": "execute_result"
    }
   ],
   "source": [
    "# All columns\n",
    "all_columns = df.columns\n",
    "all_columns"
   ]
  },
  {
   "cell_type": "code",
   "execution_count": 13,
   "id": "04d70413-b39f-4034-955c-e1bbb8e2adcb",
   "metadata": {},
   "outputs": [
    {
     "data": {
      "text/plain": [
       "Index(['User_ID', 'Marital_Status', 'Orders', 'Status', 'unnamed1'], dtype='object')"
      ]
     },
     "execution_count": 13,
     "metadata": {},
     "output_type": "execute_result"
    }
   ],
   "source": [
    "# Numeric columns\n",
    "numeric_columns = df.select_dtypes(include = np.number).columns\n",
    "numeric_columns"
   ]
  },
  {
   "cell_type": "code",
   "execution_count": 14,
   "id": "521c10a9-27c5-4e56-a3d6-534711fa6ee6",
   "metadata": {},
   "outputs": [
    {
     "data": {
      "text/plain": [
       "Index(['Cust_name', 'Product_ID', 'Gender', 'Age Group', 'Age', 'State',\n",
       "       'Zone', 'Occupation', 'Product_Category', 'Amount'],\n",
       "      dtype='object')"
      ]
     },
     "execution_count": 14,
     "metadata": {},
     "output_type": "execute_result"
    }
   ],
   "source": [
    "# Non-Numeric columns\n",
    "non_numeric_columns = df.select_dtypes(include = object).columns\n",
    "non_numeric_columns"
   ]
  },
  {
   "cell_type": "code",
   "execution_count": 15,
   "id": "c3987822-699c-45ad-9418-d84082b61b7c",
   "metadata": {},
   "outputs": [
    {
     "data": {
      "text/plain": [
       "0        False\n",
       "1        False\n",
       "2        False\n",
       "3        False\n",
       "4        False\n",
       "         ...  \n",
       "11340    False\n",
       "11341    False\n",
       "11342    False\n",
       "11343     True\n",
       "11344    False\n",
       "Length: 11345, dtype: bool"
      ]
     },
     "execution_count": 15,
     "metadata": {},
     "output_type": "execute_result"
    }
   ],
   "source": [
    "# Duplicate values\n",
    "df.duplicated()"
   ]
  },
  {
   "cell_type": "code",
   "execution_count": 16,
   "id": "a0b2666a-c773-40eb-8936-2b94b956c71e",
   "metadata": {},
   "outputs": [
    {
     "data": {
      "text/html": [
       "<div>\n",
       "<style scoped>\n",
       "    .dataframe tbody tr th:only-of-type {\n",
       "        vertical-align: middle;\n",
       "    }\n",
       "\n",
       "    .dataframe tbody tr th {\n",
       "        vertical-align: top;\n",
       "    }\n",
       "\n",
       "    .dataframe thead th {\n",
       "        text-align: right;\n",
       "    }\n",
       "</style>\n",
       "<table border=\"1\" class=\"dataframe\">\n",
       "  <thead>\n",
       "    <tr style=\"text-align: right;\">\n",
       "      <th></th>\n",
       "      <th>User_ID</th>\n",
       "      <th>Cust_name</th>\n",
       "      <th>Product_ID</th>\n",
       "      <th>Gender</th>\n",
       "      <th>Age Group</th>\n",
       "      <th>Age</th>\n",
       "      <th>Marital_Status</th>\n",
       "      <th>State</th>\n",
       "      <th>Zone</th>\n",
       "      <th>Occupation</th>\n",
       "      <th>Product_Category</th>\n",
       "      <th>Orders</th>\n",
       "      <th>Amount</th>\n",
       "      <th>Status</th>\n",
       "      <th>unnamed1</th>\n",
       "    </tr>\n",
       "  </thead>\n",
       "  <tbody>\n",
       "  </tbody>\n",
       "</table>\n",
       "</div>"
      ],
      "text/plain": [
       "Empty DataFrame\n",
       "Columns: [User_ID, Cust_name, Product_ID, Gender, Age Group, Age, Marital_Status, State, Zone, Occupation, Product_Category, Orders, Amount, Status, unnamed1]\n",
       "Index: []"
      ]
     },
     "execution_count": 16,
     "metadata": {},
     "output_type": "execute_result"
    }
   ],
   "source": [
    "# Filtering out the duplicate entries\n",
    "df = df[~df.duplicated()]\n",
    "df[df.duplicated()]"
   ]
  },
  {
   "cell_type": "markdown",
   "id": "4b01b339-21c1-4968-b46a-a0c9dc6796c8",
   "metadata": {},
   "source": [
    "#### Data Profiling\n",
    "1. **Amount**\n",
    "     - Need to Change the dat type from object to integer\n",
    "     - The rows coressponding to null values should be dropped\n",
    "     - Need To Drop the rows coressponding to values 'abcds'\n",
    "2. **Status & Unnamed1**\n",
    "   - No data, should be dropped\n",
    "\n",
    "3. **Orders**\n",
    "    - Null values has to be dropped\n",
    "    - There is outliers which can be dropped\n",
    "\n",
    "4. **state**\n",
    "     - Andhra\\xa0Pradesh & Nndhra\\xa0Pradesh shoild be replaced with 'Andhra Pradesh'\n",
    "     - Drop the coressponding to null Values\n",
    "\n",
    "5. **Zones**\n",
    "    - Drop the corresponding to null values\n",
    "    - Zentral Should be replaced With 'Central'\n",
    "\n",
    "6  **Product_Id**\n",
    "    -  Drop the coressponding to null Values\n",
    "\n",
    "7.  ** Maritial_Status**\n",
    "      - Will replace with Mode\n",
    "      - Will create a new column where '1' be repalced with 'Married' and '0' be replace with 'unmarried'\n",
    "\n",
    "8.  **Age**\n",
    "    - 'Age' can be replaced with mode\n",
    "    -  Null Values can be replaced with mode\n",
    "    -  Data type needs to be changed\n",
    "    \n",
    "9.  **Age Group**\n",
    "    -'low-high' can be replaced with mode\n",
    "    -  Null Values can be replaced with mode\n",
    "\n",
    "10.  **Product_Category**\n",
    "     - Null Values to be dropped.\n",
    "\n",
    "11. **Gender , Occupation**\n",
    "    - -Null Can be dropped"
   ]
  },
  {
   "cell_type": "markdown",
   "id": "491bffc8-4f49-47c8-8f16-be0a949ae89a",
   "metadata": {},
   "source": [
    "#### Data Cleaning"
   ]
  },
  {
   "cell_type": "markdown",
   "id": "5c54ec1b-c1b9-4a56-81bc-a5e9b1d199d7",
   "metadata": {},
   "source": [
    "#### Status & Unnamed1"
   ]
  },
  {
   "cell_type": "code",
   "execution_count": 17,
   "id": "e9e91d3e-62c6-4562-9d93-6861dde3ad18",
   "metadata": {},
   "outputs": [
    {
     "data": {
      "text/html": [
       "<div>\n",
       "<style scoped>\n",
       "    .dataframe tbody tr th:only-of-type {\n",
       "        vertical-align: middle;\n",
       "    }\n",
       "\n",
       "    .dataframe tbody tr th {\n",
       "        vertical-align: top;\n",
       "    }\n",
       "\n",
       "    .dataframe thead th {\n",
       "        text-align: right;\n",
       "    }\n",
       "</style>\n",
       "<table border=\"1\" class=\"dataframe\">\n",
       "  <thead>\n",
       "    <tr style=\"text-align: right;\">\n",
       "      <th></th>\n",
       "      <th>User_ID</th>\n",
       "      <th>Cust_name</th>\n",
       "      <th>Product_ID</th>\n",
       "      <th>Gender</th>\n",
       "      <th>Age Group</th>\n",
       "      <th>Age</th>\n",
       "      <th>Marital_Status</th>\n",
       "      <th>State</th>\n",
       "      <th>Zone</th>\n",
       "      <th>Occupation</th>\n",
       "      <th>Product_Category</th>\n",
       "      <th>Orders</th>\n",
       "      <th>Amount</th>\n",
       "    </tr>\n",
       "  </thead>\n",
       "  <tbody>\n",
       "    <tr>\n",
       "      <th>0</th>\n",
       "      <td>1002903.0</td>\n",
       "      <td>Sanskriti</td>\n",
       "      <td>P00125942</td>\n",
       "      <td>F</td>\n",
       "      <td>26-35</td>\n",
       "      <td>28</td>\n",
       "      <td>0.0</td>\n",
       "      <td>Maharashtra</td>\n",
       "      <td>Western</td>\n",
       "      <td>Healthcare</td>\n",
       "      <td>Auto</td>\n",
       "      <td>1.0</td>\n",
       "      <td>23952</td>\n",
       "    </tr>\n",
       "    <tr>\n",
       "      <th>1</th>\n",
       "      <td>1000732.0</td>\n",
       "      <td>Kartik</td>\n",
       "      <td>P00110942</td>\n",
       "      <td>F</td>\n",
       "      <td>26-35</td>\n",
       "      <td>35</td>\n",
       "      <td>1.0</td>\n",
       "      <td>Andhra Pradesh</td>\n",
       "      <td>Southern</td>\n",
       "      <td>Govt</td>\n",
       "      <td>Auto</td>\n",
       "      <td>3.0</td>\n",
       "      <td>23934</td>\n",
       "    </tr>\n",
       "  </tbody>\n",
       "</table>\n",
       "</div>"
      ],
      "text/plain": [
       "     User_ID  Cust_name Product_ID Gender Age Group Age  Marital_Status  \\\n",
       "0  1002903.0  Sanskriti  P00125942      F     26-35  28             0.0   \n",
       "1  1000732.0     Kartik  P00110942      F     26-35  35             1.0   \n",
       "\n",
       "            State      Zone  Occupation Product_Category  Orders Amount  \n",
       "0     Maharashtra   Western  Healthcare             Auto     1.0  23952  \n",
       "1  Andhra Pradesh  Southern        Govt             Auto     3.0  23934  "
      ]
     },
     "execution_count": 17,
     "metadata": {},
     "output_type": "execute_result"
    }
   ],
   "source": [
    "# Dropping columns\n",
    "df.drop(['Status', 'unnamed1'],axis =1, inplace = True)\n",
    "df.head(2)"
   ]
  },
  {
   "cell_type": "markdown",
   "id": "288b4ac4-5ba9-49ce-8951-5caf04dcd71f",
   "metadata": {},
   "source": [
    "#### Amount"
   ]
  },
  {
   "cell_type": "code",
   "execution_count": 18,
   "id": "1bc16495-e7d1-44a3-b89c-7d759b3a88f0",
   "metadata": {},
   "outputs": [],
   "source": [
    "# Changing the data type\n",
    "df['Amount'] = pd.to_numeric(df['Amount'], errors = 'coerce') \n",
    "# errors = coerce will convert unsupported values into null values"
   ]
  },
  {
   "cell_type": "code",
   "execution_count": 19,
   "id": "667753e5-7391-41fd-9b75-d5eee4a084fb",
   "metadata": {},
   "outputs": [],
   "source": [
    "# Dropping rows corresponding to null values in the columns : \n",
    "#['Amount', 'Orders', 'State', 'Zone', 'Product_ID', 'Product_Category']\n",
    "df.dropna(subset = ['Amount', 'Orders', 'State', 'Zone', 'Product_ID', 'Product_Category'], inplace = True)"
   ]
  },
  {
   "cell_type": "markdown",
   "id": "5139c7af-0d1d-4350-9e45-1896949c8f41",
   "metadata": {},
   "source": [
    "#### State and Zone"
   ]
  },
  {
   "cell_type": "code",
   "execution_count": 20,
   "id": "bfd4db64-d7af-49c0-aaac-6545bae66f46",
   "metadata": {},
   "outputs": [],
   "source": [
    "# Replacing the typo\n",
    "df['State'] = df['State'].str.replace('Andhra\\xa0Pradesh',  'Andhra Pradesh')\n",
    "df['State'] = df['State'].str.replace('Nndhra\\xa0Pradesh',  'Andhra Pradesh')\n",
    "df['Zone'] = df['Zone'].str.replace('Zentral',  'Central')"
   ]
  },
  {
   "cell_type": "code",
   "execution_count": 21,
   "id": "f1f2ef9d-f2ba-4c46-a8e4-d3cdf6525dc9",
   "metadata": {},
   "outputs": [
    {
     "data": {
      "text/plain": [
       "array(['Western', 'Southern', 'Central', 'Northern', 'Eastern'],\n",
       "      dtype=object)"
      ]
     },
     "execution_count": 21,
     "metadata": {},
     "output_type": "execute_result"
    }
   ],
   "source": [
    "df['Zone'].unique()"
   ]
  },
  {
   "cell_type": "markdown",
   "id": "eb104aa6-93c6-4177-a2f6-c476c5266607",
   "metadata": {},
   "source": [
    "#### Product_ID\n",
    "#### Already Cleaned"
   ]
  },
  {
   "cell_type": "markdown",
   "id": "5790d392-f17b-4196-86d2-ae5ddfee24e4",
   "metadata": {},
   "source": [
    "#### Marital_Status"
   ]
  },
  {
   "cell_type": "code",
   "execution_count": 22,
   "id": "27d6bf7e-2d46-41bf-93d8-498952bf21fd",
   "metadata": {},
   "outputs": [],
   "source": [
    "# Replacing the null values with mode\n",
    "marital_status_mode = df['Marital_Status'].mode()[0]\n",
    "marital_status_mode\n",
    "\n",
    "df['Marital_Status'] = df['Marital_Status'].fillna(marital_status_mode)"
   ]
  },
  {
   "cell_type": "code",
   "execution_count": 23,
   "id": "9c7e3223-546f-4e1f-875d-8549e08a4a73",
   "metadata": {},
   "outputs": [],
   "source": [
    "# Creating a new column with marital_status\n",
    "df['marraige_status'] = df['Marital_Status'].apply(lambda x: 'Married' if(x ==1.) else 'Unmarried')"
   ]
  },
  {
   "cell_type": "markdown",
   "id": "186d94f7-3bbb-4a65-b149-8df48f7124dc",
   "metadata": {},
   "source": [
    "### AGE"
   ]
  },
  {
   "cell_type": "code",
   "execution_count": 24,
   "id": "c09406f4-2867-44a7-8cb7-1786e44c1a2c",
   "metadata": {},
   "outputs": [],
   "source": [
    "# Changing the data type from object to numeric\n",
    "df['Age'] = pd.to_numeric(df['Age'], errors = 'coerce') "
   ]
  },
  {
   "cell_type": "code",
   "execution_count": 25,
   "id": "3ed6e13a-dd57-4107-91f4-f37220937e02",
   "metadata": {},
   "outputs": [],
   "source": [
    "# Replace the null values with mode\n",
    "age_mode = df['Age'].mode()[0]\n",
    "df['Age'] = df['Age'].fillna(age_mode)"
   ]
  },
  {
   "cell_type": "markdown",
   "id": "0018416b-2cfb-4153-9df0-e0c50d2f4f24",
   "metadata": {},
   "source": [
    "### Age Group"
   ]
  },
  {
   "cell_type": "code",
   "execution_count": 26,
   "id": "14ed5586-aaed-4a3c-a765-ce0ce108fb00",
   "metadata": {},
   "outputs": [],
   "source": [
    "# Replacing null value and typo with mode\n",
    "age_group_mode = df['Age Group'].mode()[0]\n",
    "age_group_mode\n",
    "df['Age Group'] = df['Age Group'].str.replace('low-high', age_group_mode)\n",
    "df['Age Group'] = df['Age Group'].fillna(age_group_mode)"
   ]
  },
  {
   "cell_type": "markdown",
   "id": "599c28b8-2e6b-44db-9f44-c5de7355dea2",
   "metadata": {},
   "source": [
    "### Product_Category\n",
    "#### Already Executed"
   ]
  },
  {
   "cell_type": "markdown",
   "id": "d89f201b-7ca1-4259-bc02-b62ddf50c2cc",
   "metadata": {},
   "source": [
    "### USer_ID,Gender & Occupation"
   ]
  },
  {
   "cell_type": "code",
   "execution_count": 27,
   "id": "eadda733-799d-4d70-aae8-e9c15ecdc600",
   "metadata": {},
   "outputs": [],
   "source": [
    "# Replacing null values with mode\n",
    "gender_mode = df['Gender'].mode()[0]\n",
    "occupation_mode = df['Occupation'].mode()[0]\n",
    "\n",
    "df['Gender'] = df['Gender'].fillna(gender_mode)\n",
    "df['Occupation'] = df['Occupation'].fillna(occupation_mode)\n",
    "\n",
    "user_id_mode = df['User_ID'].mode()[0]\n",
    "df['User_ID'] = df['User_ID'].fillna(user_id_mode)"
   ]
  },
  {
   "cell_type": "code",
   "execution_count": 28,
   "id": "b8587a00-6e2f-4005-a536-b08d25017a30",
   "metadata": {},
   "outputs": [
    {
     "name": "stdout",
     "output_type": "stream",
     "text": [
      "<class 'pandas.core.frame.DataFrame'>\n",
      "Index: 11254 entries, 0 to 11340\n",
      "Data columns (total 14 columns):\n",
      " #   Column            Non-Null Count  Dtype  \n",
      "---  ------            --------------  -----  \n",
      " 0   User_ID           11254 non-null  float64\n",
      " 1   Cust_name         11254 non-null  object \n",
      " 2   Product_ID        11254 non-null  object \n",
      " 3   Gender            11254 non-null  object \n",
      " 4   Age Group         11254 non-null  object \n",
      " 5   Age               11254 non-null  float64\n",
      " 6   Marital_Status    11254 non-null  float64\n",
      " 7   State             11254 non-null  object \n",
      " 8   Zone              11254 non-null  object \n",
      " 9   Occupation        11254 non-null  object \n",
      " 10  Product_Category  11254 non-null  object \n",
      " 11  Orders            11254 non-null  float64\n",
      " 12  Amount            11254 non-null  float64\n",
      " 13  marraige_status   11254 non-null  object \n",
      "dtypes: float64(5), object(9)\n",
      "memory usage: 1.3+ MB\n"
     ]
    }
   ],
   "source": [
    "df.info()"
   ]
  },
  {
   "cell_type": "code",
   "execution_count": 29,
   "id": "2053d6d2-1531-46c4-accf-09e0ebfb002a",
   "metadata": {},
   "outputs": [
    {
     "data": {
      "text/plain": [
       "User_ID             0\n",
       "Cust_name           0\n",
       "Product_ID          0\n",
       "Gender              0\n",
       "Age Group           0\n",
       "Age                 0\n",
       "Marital_Status      0\n",
       "State               0\n",
       "Zone                0\n",
       "Occupation          0\n",
       "Product_Category    0\n",
       "Orders              0\n",
       "Amount              0\n",
       "marraige_status     0\n",
       "dtype: int64"
      ]
     },
     "execution_count": 29,
     "metadata": {},
     "output_type": "execute_result"
    }
   ],
   "source": [
    "df.isna().sum()"
   ]
  },
  {
   "cell_type": "markdown",
   "id": "f1dc0fde-216c-4afc-9298-3558c72b99f9",
   "metadata": {},
   "source": [
    "### Outlier Detection & Removal"
   ]
  },
  {
   "cell_type": "code",
   "execution_count": 30,
   "id": "e9fa74d6-810f-4da5-8ef7-1ea4f35a2af4",
   "metadata": {},
   "outputs": [
    {
     "data": {
      "text/html": [
       "<div>\n",
       "<style scoped>\n",
       "    .dataframe tbody tr th:only-of-type {\n",
       "        vertical-align: middle;\n",
       "    }\n",
       "\n",
       "    .dataframe tbody tr th {\n",
       "        vertical-align: top;\n",
       "    }\n",
       "\n",
       "    .dataframe thead th {\n",
       "        text-align: right;\n",
       "    }\n",
       "</style>\n",
       "<table border=\"1\" class=\"dataframe\">\n",
       "  <thead>\n",
       "    <tr style=\"text-align: right;\">\n",
       "      <th></th>\n",
       "      <th>User_ID</th>\n",
       "      <th>Age</th>\n",
       "      <th>Marital_Status</th>\n",
       "      <th>Orders</th>\n",
       "      <th>Amount</th>\n",
       "    </tr>\n",
       "  </thead>\n",
       "  <tbody>\n",
       "    <tr>\n",
       "      <th>count</th>\n",
       "      <td>1.125400e+04</td>\n",
       "      <td>11254.000000</td>\n",
       "      <td>11254.000000</td>\n",
       "      <td>11254.000000</td>\n",
       "      <td>1.125400e+04</td>\n",
       "    </tr>\n",
       "    <tr>\n",
       "      <th>mean</th>\n",
       "      <td>1.013664e+06</td>\n",
       "      <td>35.424382</td>\n",
       "      <td>0.419762</td>\n",
       "      <td>2.494135</td>\n",
       "      <td>1.916697e+05</td>\n",
       "    </tr>\n",
       "    <tr>\n",
       "      <th>std</th>\n",
       "      <td>3.263686e+05</td>\n",
       "      <td>12.753259</td>\n",
       "      <td>0.493542</td>\n",
       "      <td>1.186925</td>\n",
       "      <td>1.072906e+07</td>\n",
       "    </tr>\n",
       "    <tr>\n",
       "      <th>min</th>\n",
       "      <td>1.000001e+06</td>\n",
       "      <td>12.000000</td>\n",
       "      <td>0.000000</td>\n",
       "      <td>1.000000</td>\n",
       "      <td>1.880000e+02</td>\n",
       "    </tr>\n",
       "    <tr>\n",
       "      <th>25%</th>\n",
       "      <td>1.001496e+06</td>\n",
       "      <td>27.000000</td>\n",
       "      <td>0.000000</td>\n",
       "      <td>2.000000</td>\n",
       "      <td>5.445000e+03</td>\n",
       "    </tr>\n",
       "    <tr>\n",
       "      <th>50%</th>\n",
       "      <td>1.003064e+06</td>\n",
       "      <td>33.000000</td>\n",
       "      <td>0.000000</td>\n",
       "      <td>2.000000</td>\n",
       "      <td>8.113000e+03</td>\n",
       "    </tr>\n",
       "    <tr>\n",
       "      <th>75%</th>\n",
       "      <td>1.004430e+06</td>\n",
       "      <td>43.000000</td>\n",
       "      <td>1.000000</td>\n",
       "      <td>3.000000</td>\n",
       "      <td>1.269900e+04</td>\n",
       "    </tr>\n",
       "    <tr>\n",
       "      <th>max</th>\n",
       "      <td>1.100505e+07</td>\n",
       "      <td>92.000000</td>\n",
       "      <td>1.000000</td>\n",
       "      <td>40.000000</td>\n",
       "      <td>8.760212e+08</td>\n",
       "    </tr>\n",
       "  </tbody>\n",
       "</table>\n",
       "</div>"
      ],
      "text/plain": [
       "            User_ID           Age  Marital_Status        Orders        Amount\n",
       "count  1.125400e+04  11254.000000    11254.000000  11254.000000  1.125400e+04\n",
       "mean   1.013664e+06     35.424382        0.419762      2.494135  1.916697e+05\n",
       "std    3.263686e+05     12.753259        0.493542      1.186925  1.072906e+07\n",
       "min    1.000001e+06     12.000000        0.000000      1.000000  1.880000e+02\n",
       "25%    1.001496e+06     27.000000        0.000000      2.000000  5.445000e+03\n",
       "50%    1.003064e+06     33.000000        0.000000      2.000000  8.113000e+03\n",
       "75%    1.004430e+06     43.000000        1.000000      3.000000  1.269900e+04\n",
       "max    1.100505e+07     92.000000        1.000000     40.000000  8.760212e+08"
      ]
     },
     "execution_count": 30,
     "metadata": {},
     "output_type": "execute_result"
    }
   ],
   "source": [
    "df.describe()"
   ]
  },
  {
   "cell_type": "code",
   "execution_count": 31,
   "id": "3470279f-4a3b-449b-8bb0-44063422e2cb",
   "metadata": {},
   "outputs": [
    {
     "data": {
      "text/plain": [
       "Text(0.5, 1.0, \"Box plot for 'Amount'\")"
      ]
     },
     "execution_count": 31,
     "metadata": {},
     "output_type": "execute_result"
    },
    {
     "data": {
      "image/png": "[encoded data removed]",
      "text/plain": [
       "<Figure size 1000x600 with 2 Axes>"
      ]
     },
     "metadata": {},
     "output_type": "display_data"
    }
   ],
   "source": [
    "# Visulaization of outliers\n",
    "fig,ax = plt.subplots(1,2, figsize = (10,6))\n",
    "sns.boxplot(data = df['Orders'], ax = ax[0])\n",
    "ax[0].set_title(\"Box plot for 'Orders'\")\n",
    "\n",
    "sns.boxplot(data = df['Amount'], ax = ax[1])\n",
    "ax[1].set_title(\"Box plot for 'Amount'\")"
   ]
  },
  {
   "cell_type": "markdown",
   "id": "958feaff-1997-4a0b-8b5d-0e11b018e6e7",
   "metadata": {},
   "source": [
    "### Order"
   ]
  },
  {
   "cell_type": "code",
   "execution_count": 32,
   "id": "42d13e68-3859-4945-a771-2a7aec8e0133",
   "metadata": {},
   "outputs": [],
   "source": [
    "# Quartile\n",
    "Q1_order = np.quantile(df['Orders'], 0.25)\n",
    "Q3_order = np.quantile(df['Orders'], 0.75)\n",
    "IQR_order = Q3_order - Q1_order\n",
    "#IQR_order\n",
    "lower_limit_order = Q1_order - 1.5*IQR_order\n",
    "upper_limit_order = Q3_order + 1.5*IQR_order"
   ]
  },
  {
   "cell_type": "code",
   "execution_count": 33,
   "id": "e3b13bc2-ab37-446b-8019-305a17823546",
   "metadata": {},
   "outputs": [],
   "source": [
    "# Removing the outliers\n",
    "df = df[(df['Orders'] > lower_limit_order) & (df['Orders'] < upper_limit_order)]"
   ]
  },
  {
   "cell_type": "markdown",
   "id": "836e8a1a-21b2-4b41-a744-19e2c522b4e8",
   "metadata": {},
   "source": [
    "### Amount"
   ]
  },
  {
   "cell_type": "code",
   "execution_count": 34,
   "id": "4eac8307-53f3-4ae0-966d-73cf4ea75581",
   "metadata": {},
   "outputs": [
    {
     "name": "stdout",
     "output_type": "stream",
     "text": [
      "-5436.625\n",
      "23580.375\n"
     ]
    }
   ],
   "source": [
    "# Quartile\n",
    "Q1_amount = np.quantile(df['Amount'], 0.25)\n",
    "Q3_amount = np.quantile(df['Amount'], 0.75)\n",
    "IQR_amount = Q3_amount - Q1_amount\n",
    "#IQR_order\n",
    "lower_limit_amount = Q1_amount - 1.5*IQR_amount\n",
    "upper_limit_amount = Q3_amount + 1.5*IQR_amount\n",
    "\n",
    "print(lower_limit_amount)\n",
    "print(upper_limit_amount)"
   ]
  },
  {
   "cell_type": "code",
   "execution_count": 35,
   "id": "d92bcc3e-010b-4ba1-9794-a3a21ee2216a",
   "metadata": {},
   "outputs": [],
   "source": [
    "# Removing the outliers\n",
    "df = df[(df['Amount'] > lower_limit_amount) & (df['Amount'] < upper_limit_amount)]"
   ]
  },
  {
   "cell_type": "code",
   "execution_count": 36,
   "id": "8671119a-a826-4360-ac47-ebb150693af0",
   "metadata": {},
   "outputs": [
    {
     "data": {
      "text/html": [
       "<div>\n",
       "<style scoped>\n",
       "    .dataframe tbody tr th:only-of-type {\n",
       "        vertical-align: middle;\n",
       "    }\n",
       "\n",
       "    .dataframe tbody tr th {\n",
       "        vertical-align: top;\n",
       "    }\n",
       "\n",
       "    .dataframe thead th {\n",
       "        text-align: right;\n",
       "    }\n",
       "</style>\n",
       "<table border=\"1\" class=\"dataframe\">\n",
       "  <thead>\n",
       "    <tr style=\"text-align: right;\">\n",
       "      <th></th>\n",
       "      <th>User_ID</th>\n",
       "      <th>Age</th>\n",
       "      <th>Marital_Status</th>\n",
       "      <th>Orders</th>\n",
       "      <th>Amount</th>\n",
       "    </tr>\n",
       "  </thead>\n",
       "  <tbody>\n",
       "    <tr>\n",
       "      <th>count</th>\n",
       "      <td>1.123400e+04</td>\n",
       "      <td>11234.000000</td>\n",
       "      <td>11234.000000</td>\n",
       "      <td>11234.000000</td>\n",
       "      <td>11234.000000</td>\n",
       "    </tr>\n",
       "    <tr>\n",
       "      <th>mean</th>\n",
       "      <td>1.007453e+06</td>\n",
       "      <td>35.433772</td>\n",
       "      <td>0.419708</td>\n",
       "      <td>2.489496</td>\n",
       "      <td>9452.764638</td>\n",
       "    </tr>\n",
       "    <tr>\n",
       "      <th>std</th>\n",
       "      <td>2.109026e+05</td>\n",
       "      <td>12.759432</td>\n",
       "      <td>0.493533</td>\n",
       "      <td>1.114845</td>\n",
       "      <td>5213.784648</td>\n",
       "    </tr>\n",
       "    <tr>\n",
       "      <th>min</th>\n",
       "      <td>1.000001e+06</td>\n",
       "      <td>12.000000</td>\n",
       "      <td>0.000000</td>\n",
       "      <td>1.000000</td>\n",
       "      <td>188.000000</td>\n",
       "    </tr>\n",
       "    <tr>\n",
       "      <th>25%</th>\n",
       "      <td>1.001496e+06</td>\n",
       "      <td>27.000000</td>\n",
       "      <td>0.000000</td>\n",
       "      <td>2.000000</td>\n",
       "      <td>5443.000000</td>\n",
       "    </tr>\n",
       "    <tr>\n",
       "      <th>50%</th>\n",
       "      <td>1.003064e+06</td>\n",
       "      <td>33.000000</td>\n",
       "      <td>0.000000</td>\n",
       "      <td>2.000000</td>\n",
       "      <td>8109.500000</td>\n",
       "    </tr>\n",
       "    <tr>\n",
       "      <th>75%</th>\n",
       "      <td>1.004429e+06</td>\n",
       "      <td>43.000000</td>\n",
       "      <td>1.000000</td>\n",
       "      <td>3.000000</td>\n",
       "      <td>12681.500000</td>\n",
       "    </tr>\n",
       "    <tr>\n",
       "      <th>max</th>\n",
       "      <td>1.100173e+07</td>\n",
       "      <td>92.000000</td>\n",
       "      <td>1.000000</td>\n",
       "      <td>4.000000</td>\n",
       "      <td>23568.000000</td>\n",
       "    </tr>\n",
       "  </tbody>\n",
       "</table>\n",
       "</div>"
      ],
      "text/plain": [
       "            User_ID           Age  Marital_Status        Orders        Amount\n",
       "count  1.123400e+04  11234.000000    11234.000000  11234.000000  11234.000000\n",
       "mean   1.007453e+06     35.433772        0.419708      2.489496   9452.764638\n",
       "std    2.109026e+05     12.759432        0.493533      1.114845   5213.784648\n",
       "min    1.000001e+06     12.000000        0.000000      1.000000    188.000000\n",
       "25%    1.001496e+06     27.000000        0.000000      2.000000   5443.000000\n",
       "50%    1.003064e+06     33.000000        0.000000      2.000000   8109.500000\n",
       "75%    1.004429e+06     43.000000        1.000000      3.000000  12681.500000\n",
       "max    1.100173e+07     92.000000        1.000000      4.000000  23568.000000"
      ]
     },
     "execution_count": 36,
     "metadata": {},
     "output_type": "execute_result"
    }
   ],
   "source": [
    "df.describe()"
   ]
  },
  {
   "cell_type": "code",
   "execution_count": 38,
   "id": "88d74e1d-6f53-44f3-829e-6c33ce106628",
   "metadata": {},
   "outputs": [],
   "source": [
    "# Saving the cleaned data\n",
    "df.to_csv(r\"C:\\Users\\anipi\\Desktop\\Summer Internship\\Diwali Sales Data (2).csv\")"
   ]
  },
  {
   "cell_type": "markdown",
   "id": "ab07f37d-c525-4c8d-9d9d-f823cad16a0c",
   "metadata": {},
   "source": [
    "### Explorartory Data Analysis "
   ]
  },
  {
   "cell_type": "markdown",
   "id": "e97b72ed-af41-4908-8f76-7e4116f89c02",
   "metadata": {},
   "source": [
    "### Statistical Analysis"
   ]
  },
  {
   "cell_type": "code",
   "execution_count": 39,
   "id": "88d9056e-e1d9-4b41-91ae-9f7fb23f16ec",
   "metadata": {},
   "outputs": [
    {
     "data": {
      "text/html": [
       "<div>\n",
       "<style scoped>\n",
       "    .dataframe tbody tr th:only-of-type {\n",
       "        vertical-align: middle;\n",
       "    }\n",
       "\n",
       "    .dataframe tbody tr th {\n",
       "        vertical-align: top;\n",
       "    }\n",
       "\n",
       "    .dataframe thead th {\n",
       "        text-align: right;\n",
       "    }\n",
       "</style>\n",
       "<table border=\"1\" class=\"dataframe\">\n",
       "  <thead>\n",
       "    <tr style=\"text-align: right;\">\n",
       "      <th></th>\n",
       "      <th>User_ID</th>\n",
       "      <th>Cust_name</th>\n",
       "      <th>Product_ID</th>\n",
       "      <th>Gender</th>\n",
       "      <th>Age Group</th>\n",
       "      <th>Age</th>\n",
       "      <th>Marital_Status</th>\n",
       "      <th>State</th>\n",
       "      <th>Zone</th>\n",
       "      <th>Occupation</th>\n",
       "      <th>Product_Category</th>\n",
       "      <th>Orders</th>\n",
       "      <th>Amount</th>\n",
       "      <th>marraige_status</th>\n",
       "    </tr>\n",
       "  </thead>\n",
       "  <tbody>\n",
       "    <tr>\n",
       "      <th>18</th>\n",
       "      <td>1001883.0</td>\n",
       "      <td>Praneet</td>\n",
       "      <td>P00029842</td>\n",
       "      <td>M</td>\n",
       "      <td>26-35</td>\n",
       "      <td>54.0</td>\n",
       "      <td>1.0</td>\n",
       "      <td>Uttar Pradesh</td>\n",
       "      <td>Central</td>\n",
       "      <td>Hospitality</td>\n",
       "      <td>Auto</td>\n",
       "      <td>1.0</td>\n",
       "      <td>23568.0</td>\n",
       "      <td>Married</td>\n",
       "    </tr>\n",
       "    <tr>\n",
       "      <th>19</th>\n",
       "      <td>1001883.0</td>\n",
       "      <td>Praneet</td>\n",
       "      <td>P00029842</td>\n",
       "      <td>M</td>\n",
       "      <td>26-35</td>\n",
       "      <td>54.0</td>\n",
       "      <td>1.0</td>\n",
       "      <td>Uttar Pradesh</td>\n",
       "      <td>Central</td>\n",
       "      <td>Hospitality</td>\n",
       "      <td>Auto</td>\n",
       "      <td>1.0</td>\n",
       "      <td>23568.0</td>\n",
       "      <td>Married</td>\n",
       "    </tr>\n",
       "  </tbody>\n",
       "</table>\n",
       "</div>"
      ],
      "text/plain": [
       "      User_ID Cust_name Product_ID Gender Age Group   Age  Marital_Status  \\\n",
       "18  1001883.0   Praneet  P00029842      M     26-35  54.0             1.0   \n",
       "19  1001883.0   Praneet  P00029842      M     26-35  54.0             1.0   \n",
       "\n",
       "            State     Zone   Occupation Product_Category  Orders   Amount  \\\n",
       "18  Uttar Pradesh  Central  Hospitality             Auto     1.0  23568.0   \n",
       "19  Uttar Pradesh  Central  Hospitality             Auto     1.0  23568.0   \n",
       "\n",
       "   marraige_status  \n",
       "18         Married  \n",
       "19         Married  "
      ]
     },
     "execution_count": 39,
     "metadata": {},
     "output_type": "execute_result"
    }
   ],
   "source": [
    "df.head(2)"
   ]
  },
  {
   "cell_type": "code",
   "execution_count": 40,
   "id": "fc6feb3d-3fee-4035-a79f-d1962be53de7",
   "metadata": {},
   "outputs": [
    {
     "data": {
      "text/html": [
       "<div>\n",
       "<style scoped>\n",
       "    .dataframe tbody tr th:only-of-type {\n",
       "        vertical-align: middle;\n",
       "    }\n",
       "\n",
       "    .dataframe tbody tr th {\n",
       "        vertical-align: top;\n",
       "    }\n",
       "\n",
       "    .dataframe thead th {\n",
       "        text-align: right;\n",
       "    }\n",
       "</style>\n",
       "<table border=\"1\" class=\"dataframe\">\n",
       "  <thead>\n",
       "    <tr style=\"text-align: right;\">\n",
       "      <th></th>\n",
       "      <th>User_ID</th>\n",
       "      <th>Age</th>\n",
       "      <th>Marital_Status</th>\n",
       "      <th>Orders</th>\n",
       "      <th>Amount</th>\n",
       "    </tr>\n",
       "  </thead>\n",
       "  <tbody>\n",
       "    <tr>\n",
       "      <th>count</th>\n",
       "      <td>1.123400e+04</td>\n",
       "      <td>11234.000000</td>\n",
       "      <td>11234.000000</td>\n",
       "      <td>11234.000000</td>\n",
       "      <td>11234.000000</td>\n",
       "    </tr>\n",
       "    <tr>\n",
       "      <th>mean</th>\n",
       "      <td>1.007453e+06</td>\n",
       "      <td>35.433772</td>\n",
       "      <td>0.419708</td>\n",
       "      <td>2.489496</td>\n",
       "      <td>9452.764638</td>\n",
       "    </tr>\n",
       "    <tr>\n",
       "      <th>std</th>\n",
       "      <td>2.109026e+05</td>\n",
       "      <td>12.759432</td>\n",
       "      <td>0.493533</td>\n",
       "      <td>1.114845</td>\n",
       "      <td>5213.784648</td>\n",
       "    </tr>\n",
       "    <tr>\n",
       "      <th>min</th>\n",
       "      <td>1.000001e+06</td>\n",
       "      <td>12.000000</td>\n",
       "      <td>0.000000</td>\n",
       "      <td>1.000000</td>\n",
       "      <td>188.000000</td>\n",
       "    </tr>\n",
       "    <tr>\n",
       "      <th>25%</th>\n",
       "      <td>1.001496e+06</td>\n",
       "      <td>27.000000</td>\n",
       "      <td>0.000000</td>\n",
       "      <td>2.000000</td>\n",
       "      <td>5443.000000</td>\n",
       "    </tr>\n",
       "    <tr>\n",
       "      <th>50%</th>\n",
       "      <td>1.003064e+06</td>\n",
       "      <td>33.000000</td>\n",
       "      <td>0.000000</td>\n",
       "      <td>2.000000</td>\n",
       "      <td>8109.500000</td>\n",
       "    </tr>\n",
       "    <tr>\n",
       "      <th>75%</th>\n",
       "      <td>1.004429e+06</td>\n",
       "      <td>43.000000</td>\n",
       "      <td>1.000000</td>\n",
       "      <td>3.000000</td>\n",
       "      <td>12681.500000</td>\n",
       "    </tr>\n",
       "    <tr>\n",
       "      <th>max</th>\n",
       "      <td>1.100173e+07</td>\n",
       "      <td>92.000000</td>\n",
       "      <td>1.000000</td>\n",
       "      <td>4.000000</td>\n",
       "      <td>23568.000000</td>\n",
       "    </tr>\n",
       "  </tbody>\n",
       "</table>\n",
       "</div>"
      ],
      "text/plain": [
       "            User_ID           Age  Marital_Status        Orders        Amount\n",
       "count  1.123400e+04  11234.000000    11234.000000  11234.000000  11234.000000\n",
       "mean   1.007453e+06     35.433772        0.419708      2.489496   9452.764638\n",
       "std    2.109026e+05     12.759432        0.493533      1.114845   5213.784648\n",
       "min    1.000001e+06     12.000000        0.000000      1.000000    188.000000\n",
       "25%    1.001496e+06     27.000000        0.000000      2.000000   5443.000000\n",
       "50%    1.003064e+06     33.000000        0.000000      2.000000   8109.500000\n",
       "75%    1.004429e+06     43.000000        1.000000      3.000000  12681.500000\n",
       "max    1.100173e+07     92.000000        1.000000      4.000000  23568.000000"
      ]
     },
     "execution_count": 40,
     "metadata": {},
     "output_type": "execute_result"
    }
   ],
   "source": [
    "df.describe()"
   ]
  },
  {
   "cell_type": "markdown",
   "id": "3db8a0b6-8a7f-40f7-8ab0-403cf094b32e",
   "metadata": {},
   "source": [
    "### Data Visualization"
   ]
  },
  {
   "cell_type": "markdown",
   "id": "b196b6a7-9149-49d5-b845-8f22cc03a29b",
   "metadata": {},
   "source": [
    "#### Gender Wise Analysis"
   ]
  },
  {
   "cell_type": "code",
   "execution_count": 41,
   "id": "60e26a71-a31a-4d12-b91b-e48448e4079a",
   "metadata": {},
   "outputs": [
    {
     "name": "stdout",
     "output_type": "stream",
     "text": [
      "Gender wise order count \n",
      "   Gender  Orders\n",
      "0      F    7835\n",
      "1      M    3399\n",
      "Gender wise Purchase Power \n",
      "   Gender       Amount\n",
      "0      F  74422989.94\n",
      "1      M  31769368.00\n"
     ]
    }
   ],
   "source": [
    "#Plot data\n",
    "data_gender_count = df.groupby(['Gender'], as_index = False)['Orders'].count()\n",
    "print(\"Gender wise order count \\n\", data_gender_count)\n",
    "\n",
    "data_gender_amount = df.groupby(['Gender'], as_index = False)['Amount'].sum()\n",
    "print(\"Gender wise Purchase Power \\n\", data_gender_amount)"
   ]
  },
  {
   "cell_type": "code",
   "execution_count": 42,
   "id": "17345fdc-b3b6-4046-9c00-6a9871b117b3",
   "metadata": {},
   "outputs": [
    {
     "data": {
      "image/png": "[encoded data removed]",
      "text/plain": [
       "<Figure size 2000x800 with 2 Axes>"
      ]
     },
     "metadata": {},
     "output_type": "display_data"
    }
   ],
   "source": [
    "# Plotting\n",
    "fig,ax = plt.subplots(1,2, figsize = (20,8))\n",
    "\n",
    "# Pie Chart\n",
    "ax[0].pie(x = data_gender_count['Orders'], \n",
    "           labels = data_gender_count['Gender'], autopct = \"%1.2f%%\")\n",
    "ax[0].set_title(\"Gender Wise Order Count\")\n",
    "\n",
    "# Bar Chart\n",
    "sns.barplot(x = 'Gender', y = 'Amount', data = data_gender_amount, ax = ax[1])\n",
    "ax[1].set_title(\"Gender Wise Purchase Power\")\n",
    "plt.show()"
   ]
  },
  {
   "cell_type": "markdown",
   "id": "f67063d9-2980-4bc2-9379-dd3930a79b7a",
   "metadata": {},
   "source": [
    "### Conclusion"
   ]
  },
  {
   "cell_type": "markdown",
   "id": "e775e3a7-90e6-4e2b-afec-90021132d61e",
   "metadata": {},
   "source": [
    "#### Females generally places more orders and their purchase power is also higher"
   ]
  },
  {
   "cell_type": "markdown",
   "id": "67956b68-6150-437d-ae91-e20e60b6521a",
   "metadata": {},
   "source": [
    "### Marital Status Wise Analysis"
   ]
  },
  {
   "cell_type": "code",
   "execution_count": 43,
   "id": "06a7ca9b-e622-4f11-9f2e-c18170af749c",
   "metadata": {},
   "outputs": [
    {
     "data": {
      "text/html": [
       "<div>\n",
       "<style scoped>\n",
       "    .dataframe tbody tr th:only-of-type {\n",
       "        vertical-align: middle;\n",
       "    }\n",
       "\n",
       "    .dataframe tbody tr th {\n",
       "        vertical-align: top;\n",
       "    }\n",
       "\n",
       "    .dataframe thead th {\n",
       "        text-align: right;\n",
       "    }\n",
       "</style>\n",
       "<table border=\"1\" class=\"dataframe\">\n",
       "  <thead>\n",
       "    <tr style=\"text-align: right;\">\n",
       "      <th></th>\n",
       "      <th>marraige_status</th>\n",
       "      <th>Amount</th>\n",
       "    </tr>\n",
       "  </thead>\n",
       "  <tbody>\n",
       "    <tr>\n",
       "      <th>0</th>\n",
       "      <td>Married</td>\n",
       "      <td>44003938.00</td>\n",
       "    </tr>\n",
       "    <tr>\n",
       "      <th>1</th>\n",
       "      <td>Unmarried</td>\n",
       "      <td>62188419.94</td>\n",
       "    </tr>\n",
       "  </tbody>\n",
       "</table>\n",
       "</div>"
      ],
      "text/plain": [
       "  marraige_status       Amount\n",
       "0         Married  44003938.00\n",
       "1       Unmarried  62188419.94"
      ]
     },
     "execution_count": 43,
     "metadata": {},
     "output_type": "execute_result"
    }
   ],
   "source": [
    "# Plot data\n",
    "data_marraige_status_amount = df.groupby(['marraige_status'], as_index = False)['Amount'].sum()\n",
    "data_marraige_status_amount"
   ]
  },
  {
   "cell_type": "code",
   "execution_count": 44,
   "id": "9f0fd1e3-ab59-4237-b9f8-af7d60bc9d2d",
   "metadata": {},
   "outputs": [
    {
     "data": {
      "image/png": "[encoded data removed]",
      "text/plain": [
       "<Figure size 2000x800 with 2 Axes>"
      ]
     },
     "metadata": {},
     "output_type": "display_data"
    }
   ],
   "source": [
    "# Plots\n",
    "fig, ax = plt.subplots(1,2, figsize = (20,8))\n",
    "\n",
    "# Countplot\n",
    "sns.countplot( x = 'marraige_status', hue = 'Gender', data = df, ax = ax[0])\n",
    "ax[0].set_title('Order Count - Maraiage Status')\n",
    "\n",
    "# Barplot for purchase power\n",
    "sns.barplot(y = 'marraige_status', x = 'Amount', orient = 'h',\n",
    "            data = data_marraige_status_amount, ax = ax[1])\n",
    "ax[1].set_title('Purchase - Maraiage Status')\n",
    "\n",
    "plt.show()"
   ]
  },
  {
   "cell_type": "markdown",
   "id": "24458830-9ff8-4262-99c8-a12b6762c2db",
   "metadata": {},
   "source": [
    "### Conclusion"
   ]
  },
  {
   "cell_type": "markdown",
   "id": "7b34bec9-0f45-4ee6-8356-ec32937d0d61",
   "metadata": {},
   "source": [
    "#### Unmarried female place smore order, than married females and then unmarried male"
   ]
  },
  {
   "cell_type": "code",
   "execution_count": 45,
   "id": "5590c5a0-de5a-487e-8ad9-d222168222b1",
   "metadata": {},
   "outputs": [
    {
     "data": {
      "text/html": [
       "<div>\n",
       "<style scoped>\n",
       "    .dataframe tbody tr th:only-of-type {\n",
       "        vertical-align: middle;\n",
       "    }\n",
       "\n",
       "    .dataframe tbody tr th {\n",
       "        vertical-align: top;\n",
       "    }\n",
       "\n",
       "    .dataframe thead th {\n",
       "        text-align: right;\n",
       "    }\n",
       "</style>\n",
       "<table border=\"1\" class=\"dataframe\">\n",
       "  <thead>\n",
       "    <tr style=\"text-align: right;\">\n",
       "      <th></th>\n",
       "      <th>User_ID</th>\n",
       "      <th>Cust_name</th>\n",
       "      <th>Product_ID</th>\n",
       "      <th>Gender</th>\n",
       "      <th>Age Group</th>\n",
       "      <th>Age</th>\n",
       "      <th>Marital_Status</th>\n",
       "      <th>State</th>\n",
       "      <th>Zone</th>\n",
       "      <th>Occupation</th>\n",
       "      <th>Product_Category</th>\n",
       "      <th>Orders</th>\n",
       "      <th>Amount</th>\n",
       "      <th>marraige_status</th>\n",
       "    </tr>\n",
       "  </thead>\n",
       "  <tbody>\n",
       "    <tr>\n",
       "      <th>18</th>\n",
       "      <td>1001883.0</td>\n",
       "      <td>Praneet</td>\n",
       "      <td>P00029842</td>\n",
       "      <td>M</td>\n",
       "      <td>26-35</td>\n",
       "      <td>54.0</td>\n",
       "      <td>1.0</td>\n",
       "      <td>Uttar Pradesh</td>\n",
       "      <td>Central</td>\n",
       "      <td>Hospitality</td>\n",
       "      <td>Auto</td>\n",
       "      <td>1.0</td>\n",
       "      <td>23568.0</td>\n",
       "      <td>Married</td>\n",
       "    </tr>\n",
       "    <tr>\n",
       "      <th>19</th>\n",
       "      <td>1001883.0</td>\n",
       "      <td>Praneet</td>\n",
       "      <td>P00029842</td>\n",
       "      <td>M</td>\n",
       "      <td>26-35</td>\n",
       "      <td>54.0</td>\n",
       "      <td>1.0</td>\n",
       "      <td>Uttar Pradesh</td>\n",
       "      <td>Central</td>\n",
       "      <td>Hospitality</td>\n",
       "      <td>Auto</td>\n",
       "      <td>1.0</td>\n",
       "      <td>23568.0</td>\n",
       "      <td>Married</td>\n",
       "    </tr>\n",
       "  </tbody>\n",
       "</table>\n",
       "</div>"
      ],
      "text/plain": [
       "      User_ID Cust_name Product_ID Gender Age Group   Age  Marital_Status  \\\n",
       "18  1001883.0   Praneet  P00029842      M     26-35  54.0             1.0   \n",
       "19  1001883.0   Praneet  P00029842      M     26-35  54.0             1.0   \n",
       "\n",
       "            State     Zone   Occupation Product_Category  Orders   Amount  \\\n",
       "18  Uttar Pradesh  Central  Hospitality             Auto     1.0  23568.0   \n",
       "19  Uttar Pradesh  Central  Hospitality             Auto     1.0  23568.0   \n",
       "\n",
       "   marraige_status  \n",
       "18         Married  \n",
       "19         Married  "
      ]
     },
     "execution_count": 45,
     "metadata": {},
     "output_type": "execute_result"
    }
   ],
   "source": [
    "df.head(2)"
   ]
  },
  {
   "cell_type": "markdown",
   "id": "e0a06ecb-1a75-4763-8eac-0210eeb9f48f",
   "metadata": {},
   "source": [
    "### Age Wise Analysis"
   ]
  },
  {
   "cell_type": "code",
   "execution_count": 46,
   "id": "1ffd8267-8af5-4f65-a8af-828b54ec9113",
   "metadata": {},
   "outputs": [
    {
     "data": {
      "text/html": [
       "<div>\n",
       "<style scoped>\n",
       "    .dataframe tbody tr th:only-of-type {\n",
       "        vertical-align: middle;\n",
       "    }\n",
       "\n",
       "    .dataframe tbody tr th {\n",
       "        vertical-align: top;\n",
       "    }\n",
       "\n",
       "    .dataframe thead th {\n",
       "        text-align: right;\n",
       "    }\n",
       "</style>\n",
       "<table border=\"1\" class=\"dataframe\">\n",
       "  <thead>\n",
       "    <tr style=\"text-align: right;\">\n",
       "      <th></th>\n",
       "      <th>Age Group</th>\n",
       "      <th>Amount</th>\n",
       "    </tr>\n",
       "  </thead>\n",
       "  <tbody>\n",
       "    <tr>\n",
       "      <th>0</th>\n",
       "      <td>0-17</td>\n",
       "      <td>2696529.00</td>\n",
       "    </tr>\n",
       "    <tr>\n",
       "      <th>1</th>\n",
       "      <td>18-25</td>\n",
       "      <td>17032196.00</td>\n",
       "    </tr>\n",
       "    <tr>\n",
       "      <th>2</th>\n",
       "      <td>26-35</td>\n",
       "      <td>42603794.95</td>\n",
       "    </tr>\n",
       "    <tr>\n",
       "      <th>3</th>\n",
       "      <td>36-45</td>\n",
       "      <td>22234332.99</td>\n",
       "    </tr>\n",
       "    <tr>\n",
       "      <th>4</th>\n",
       "      <td>46-50</td>\n",
       "      <td>9245595.00</td>\n",
       "    </tr>\n",
       "    <tr>\n",
       "      <th>5</th>\n",
       "      <td>51-55</td>\n",
       "      <td>8278320.00</td>\n",
       "    </tr>\n",
       "    <tr>\n",
       "      <th>6</th>\n",
       "      <td>55+</td>\n",
       "      <td>4101590.00</td>\n",
       "    </tr>\n",
       "  </tbody>\n",
       "</table>\n",
       "</div>"
      ],
      "text/plain": [
       "  Age Group       Amount\n",
       "0      0-17   2696529.00\n",
       "1     18-25  17032196.00\n",
       "2     26-35  42603794.95\n",
       "3     36-45  22234332.99\n",
       "4     46-50   9245595.00\n",
       "5     51-55   8278320.00\n",
       "6       55+   4101590.00"
      ]
     },
     "execution_count": 46,
     "metadata": {},
     "output_type": "execute_result"
    }
   ],
   "source": [
    "# Plot data\n",
    "data_age_group_amount = df.groupby(['Age Group'], as_index = False)['Amount'].sum()\n",
    "data_age_group_amount"
   ]
  },
  {
   "cell_type": "code",
   "execution_count": 47,
   "id": "648966d6-cf15-4dfa-9f37-8b449e7c0bdd",
   "metadata": {},
   "outputs": [
    {
     "data": {
      "image/png": "[encoded data removed]",
      "text/plain": [
       "<Figure size 2000x800 with 2 Axes>"
      ]
     },
     "metadata": {},
     "output_type": "display_data"
    }
   ],
   "source": [
    "# Plots\n",
    "fig, ax = plt.subplots(1,2, figsize = (20,8))\n",
    "\n",
    "# Countplot\n",
    "sns.countplot( x = 'Age Group', data = df, ax = ax[0])\n",
    "ax[0].set_title('Order Count - Age Group')\n",
    "\n",
    "# Barplot for purchase power\n",
    "sns.barplot(y = 'Age Group', x = 'Amount', orient = 'h',\n",
    "            data = data_age_group_amount, ax = ax[1])\n",
    "ax[1].set_title('Purchase Power - Age Group')\n",
    "\n",
    "plt.show()"
   ]
  },
  {
   "cell_type": "markdown",
   "id": "0c1977b5-fa75-49c4-ab73-4f96bb0b6d05",
   "metadata": {},
   "source": [
    "### Conclusion"
   ]
  },
  {
   "cell_type": "markdown",
   "id": "6e1f5546-53c9-4a52-8120-aab14bc5da87",
   "metadata": {},
   "source": [
    "#### 26-35 Age Group people place more order"
   ]
  },
  {
   "cell_type": "markdown",
   "id": "51b63f77-3629-41ab-9f4c-a718b37648e4",
   "metadata": {},
   "source": [
    "### Product_Category"
   ]
  },
  {
   "cell_type": "code",
   "execution_count": 48,
   "id": "95a9cb7d-5841-4717-96a8-d0a8131d6a04",
   "metadata": {},
   "outputs": [
    {
     "data": {
      "text/html": [
       "<div>\n",
       "<style scoped>\n",
       "    .dataframe tbody tr th:only-of-type {\n",
       "        vertical-align: middle;\n",
       "    }\n",
       "\n",
       "    .dataframe tbody tr th {\n",
       "        vertical-align: top;\n",
       "    }\n",
       "\n",
       "    .dataframe thead th {\n",
       "        text-align: right;\n",
       "    }\n",
       "</style>\n",
       "<table border=\"1\" class=\"dataframe\">\n",
       "  <thead>\n",
       "    <tr style=\"text-align: right;\">\n",
       "      <th></th>\n",
       "      <th>Product_Category</th>\n",
       "      <th>Amount</th>\n",
       "    </tr>\n",
       "  </thead>\n",
       "  <tbody>\n",
       "    <tr>\n",
       "      <th>6</th>\n",
       "      <td>Food</td>\n",
       "      <td>33933883.50</td>\n",
       "    </tr>\n",
       "    <tr>\n",
       "      <th>3</th>\n",
       "      <td>Clothing &amp; Apparel</td>\n",
       "      <td>16484472.00</td>\n",
       "    </tr>\n",
       "    <tr>\n",
       "      <th>7</th>\n",
       "      <td>Footwear &amp; Shoes</td>\n",
       "      <td>16009057.45</td>\n",
       "    </tr>\n",
       "    <tr>\n",
       "      <th>5</th>\n",
       "      <td>Electronics &amp; Gadgets</td>\n",
       "      <td>15607657.00</td>\n",
       "    </tr>\n",
       "    <tr>\n",
       "      <th>8</th>\n",
       "      <td>Furniture</td>\n",
       "      <td>5481325.99</td>\n",
       "    </tr>\n",
       "  </tbody>\n",
       "</table>\n",
       "</div>"
      ],
      "text/plain": [
       "        Product_Category       Amount\n",
       "6                   Food  33933883.50\n",
       "3     Clothing & Apparel  16484472.00\n",
       "7       Footwear & Shoes  16009057.45\n",
       "5  Electronics & Gadgets  15607657.00\n",
       "8              Furniture   5481325.99"
      ]
     },
     "execution_count": 48,
     "metadata": {},
     "output_type": "execute_result"
    }
   ],
   "source": [
    "# Plot data\n",
    "data_product_category = df.groupby(['Product_Category'], as_index = False)['Amount'].sum().sort_values(by='Amount',ascending=False).head(5)\n",
    "data_product_category\n"
   ]
  },
  {
   "cell_type": "code",
   "execution_count": 109,
   "id": "f513c4af-156f-4d1a-910a-884669a3a5ef",
   "metadata": {},
   "outputs": [
    {
     "data": {
      "text/plain": [
       "<Axes: xlabel='Product_Category', ylabel='Orders'>"
      ]
     },
     "execution_count": 109,
     "metadata": {},
     "output_type": "execute_result"
    },
    {
     "data": {
      "image/png": "[encoded data removed]",
      "text/plain": [
       "<Figure size 1500x500 with 1 Axes>"
      ]
     },
     "metadata": {},
     "output_type": "display_data"
    }
   ],
   "source": [
    "sales_product_category = df.groupby(['Product_Category'],as_index=False)['Orders'].count().sort_values(by='Orders', ascending=False).head(5)\n",
    "\n",
    "sns.barplot(data = sales_product_category, x='Product_Category',y='Orders')"
   ]
  },
  {
   "cell_type": "code",
   "execution_count": 112,
   "id": "fb7ed1fe-7fc7-4c96-bc38-d4a73a2c9305",
   "metadata": {},
   "outputs": [
    {
     "data": {
      "image/png": "[encoded data removed]",
      "text/plain": [
       "<Figure size 1500x500 with 1 Axes>"
      ]
     },
     "metadata": {},
     "output_type": "display_data"
    }
   ],
   "source": [
    "\n",
    "#plot\n",
    "sns.barplot(data = data_product_category , x='Amount', y='Product_Category')\n",
    "\n",
    "# Barplot for purchase power\n",
    "\n",
    "sns.barplot(y = 'Product_Category', x = 'Amount', orient = 'h', \n",
    "            data = data_product_category, ax = ax[1])\n",
    "ax[1].set_title('Purchase - Product_Category')\n",
    "\n",
    "plt.show()"
   ]
  },
  {
   "cell_type": "markdown",
   "id": "ce443691-49e4-449a-a2d7-b3b7985d7bd0",
   "metadata": {},
   "source": [
    "### Conclusion"
   ]
  },
  {
   "cell_type": "markdown",
   "id": "0a53e268-e661-4a0d-87b0-bde6fb810cff",
   "metadata": {},
   "source": [
    "#### People are spending more money on food"
   ]
  },
  {
   "cell_type": "markdown",
   "id": "140c1596-c802-4542-92a8-7a2514c6c041",
   "metadata": {},
   "source": [
    "#### State"
   ]
  },
  {
   "cell_type": "code",
   "execution_count": 52,
   "id": "8a605145-3bec-4a7e-9018-1f4479c78c9c",
   "metadata": {},
   "outputs": [
    {
     "data": {
      "text/html": [
       "<div>\n",
       "<style scoped>\n",
       "    .dataframe tbody tr th:only-of-type {\n",
       "        vertical-align: middle;\n",
       "    }\n",
       "\n",
       "    .dataframe tbody tr th {\n",
       "        vertical-align: top;\n",
       "    }\n",
       "\n",
       "    .dataframe thead th {\n",
       "        text-align: right;\n",
       "    }\n",
       "</style>\n",
       "<table border=\"1\" class=\"dataframe\">\n",
       "  <thead>\n",
       "    <tr style=\"text-align: right;\">\n",
       "      <th></th>\n",
       "      <th>State</th>\n",
       "      <th>Amount</th>\n",
       "    </tr>\n",
       "  </thead>\n",
       "  <tbody>\n",
       "    <tr>\n",
       "      <th>14</th>\n",
       "      <td>Uttar Pradesh</td>\n",
       "      <td>19360148.00</td>\n",
       "    </tr>\n",
       "    <tr>\n",
       "      <th>10</th>\n",
       "      <td>Maharashtra</td>\n",
       "      <td>14400762.00</td>\n",
       "    </tr>\n",
       "    <tr>\n",
       "      <th>7</th>\n",
       "      <td>Karnataka</td>\n",
       "      <td>13705829.00</td>\n",
       "    </tr>\n",
       "    <tr>\n",
       "      <th>2</th>\n",
       "      <td>Delhi</td>\n",
       "      <td>11554343.95</td>\n",
       "    </tr>\n",
       "    <tr>\n",
       "      <th>9</th>\n",
       "      <td>Madhya Pradesh</td>\n",
       "      <td>8100944.00</td>\n",
       "    </tr>\n",
       "  </tbody>\n",
       "</table>\n",
       "</div>"
      ],
      "text/plain": [
       "             State       Amount\n",
       "14   Uttar Pradesh  19360148.00\n",
       "10     Maharashtra  14400762.00\n",
       "7        Karnataka  13705829.00\n",
       "2            Delhi  11554343.95\n",
       "9   Madhya Pradesh   8100944.00"
      ]
     },
     "execution_count": 52,
     "metadata": {},
     "output_type": "execute_result"
    }
   ],
   "source": [
    "# Plot data\n",
    "data_state = df.groupby(['State'], as_index = False)['Amount'].sum().sort_values(by='Amount',ascending=False).head(5)\n",
    "data_state"
   ]
  },
  {
   "cell_type": "code",
   "execution_count": 98,
   "id": "f32d970a-46c6-4756-889c-0f4054e00fe2",
   "metadata": {},
   "outputs": [
    {
     "data": {
      "text/plain": [
       "<Axes: xlabel='State', ylabel='Orders'>"
      ]
     },
     "execution_count": 98,
     "metadata": {},
     "output_type": "execute_result"
    },
    {
     "data": {
      "image/png": "[encoded data removed]",
      "text/plain": [
       "<Figure size 1500x500 with 1 Axes>"
      ]
     },
     "metadata": {},
     "output_type": "display_data"
    }
   ],
   "source": [
    "sales_state = df.groupby(['State'],as_index=False)['Orders'].count().sort_values(by='Orders', ascending=False).head(5)\n",
    "\n",
    "sns.barplot(data = sales_state, x='State',y='Orders')"
   ]
  },
  {
   "cell_type": "code",
   "execution_count": 67,
   "id": "2ede4894-6942-4d42-b438-080d5e34bfd5",
   "metadata": {},
   "outputs": [
    {
     "data": {
      "image/png": "[encoded data removed]",
      "text/plain": [
       "<Figure size 1500x500 with 1 Axes>"
      ]
     },
     "metadata": {},
     "output_type": "display_data"
    }
   ],
   "source": [
    "#plot\n",
    "sns.barplot(data = data_state , x=\"Amount\" , y=\"State\")\n",
    "\n",
    "\n",
    "\n",
    "# Barplot for purchase power\n",
    "\n",
    "\n",
    "sns.barplot(y = 'State', x = 'Amount', orient = 'h', \n",
    "            data = data_state, ax = ax[1])\n",
    "ax[1].set_title('Purchase - Top 5 States')\n",
    "\n",
    "plt.show()"
   ]
  },
  {
   "cell_type": "markdown",
   "id": "28ca22cf-6dbb-4b4a-9607-50ef2f626f68",
   "metadata": {},
   "source": [
    "### Conclusion"
   ]
  },
  {
   "cell_type": "markdown",
   "id": "e0401b76-fcfc-4587-a343-e87345ca88e6",
   "metadata": {},
   "source": [
    "#### Uttarpradesh state is spending more Amount"
   ]
  },
  {
   "cell_type": "code",
   "execution_count": 118,
   "id": "eb0f9ca6-d5cd-4d49-b29f-3e2037aba475",
   "metadata": {},
   "outputs": [
    {
     "data": {
      "text/html": [
       "<div>\n",
       "<style scoped>\n",
       "    .dataframe tbody tr th:only-of-type {\n",
       "        vertical-align: middle;\n",
       "    }\n",
       "\n",
       "    .dataframe tbody tr th {\n",
       "        vertical-align: top;\n",
       "    }\n",
       "\n",
       "    .dataframe thead th {\n",
       "        text-align: right;\n",
       "    }\n",
       "</style>\n",
       "<table border=\"1\" class=\"dataframe\">\n",
       "  <thead>\n",
       "    <tr style=\"text-align: right;\">\n",
       "      <th></th>\n",
       "      <th>Occupation</th>\n",
       "      <th>Amount</th>\n",
       "    </tr>\n",
       "  </thead>\n",
       "  <tbody>\n",
       "    <tr>\n",
       "      <th>10</th>\n",
       "      <td>IT Sector</td>\n",
       "      <td>14902488.00</td>\n",
       "    </tr>\n",
       "    <tr>\n",
       "      <th>8</th>\n",
       "      <td>Healthcare</td>\n",
       "      <td>12989061.49</td>\n",
       "    </tr>\n",
       "    <tr>\n",
       "      <th>2</th>\n",
       "      <td>Aviation</td>\n",
       "      <td>12596751.00</td>\n",
       "    </tr>\n",
       "    <tr>\n",
       "      <th>3</th>\n",
       "      <td>Banking</td>\n",
       "      <td>10767299.45</td>\n",
       "    </tr>\n",
       "    <tr>\n",
       "      <th>7</th>\n",
       "      <td>Govt</td>\n",
       "      <td>8425182.00</td>\n",
       "    </tr>\n",
       "  </tbody>\n",
       "</table>\n",
       "</div>"
      ],
      "text/plain": [
       "    Occupation       Amount\n",
       "10   IT Sector  14902488.00\n",
       "8   Healthcare  12989061.49\n",
       "2     Aviation  12596751.00\n",
       "3      Banking  10767299.45\n",
       "7         Govt   8425182.00"
      ]
     },
     "execution_count": 118,
     "metadata": {},
     "output_type": "execute_result"
    }
   ],
   "source": [
    "#Plot data\n",
    "data_occupation = df.groupby(['Occupation'], as_index = False)['Amount'].sum().sort_values(by='Amount',ascending=False).head(5)\n",
    "data_occupation"
   ]
  },
  {
   "cell_type": "code",
   "execution_count": 124,
   "id": "9b901d7a-620b-4ca3-a1d3-9f4ff0bc9576",
   "metadata": {},
   "outputs": [
    {
     "data": {
      "text/plain": [
       "<Axes: xlabel='Occupation', ylabel='Orders'>"
      ]
     },
     "execution_count": 124,
     "metadata": {},
     "output_type": "execute_result"
    },
    {
     "data": {
      "image/png": "[encoded data removed]",
      "text/plain": [
       "<Figure size 1500x500 with 1 Axes>"
      ]
     },
     "metadata": {},
     "output_type": "display_data"
    }
   ],
   "source": [
    "sales_state = df.groupby(['Occupation'],as_index=False)['Orders'].count().sort_values(by='Orders', ascending=False).head(5)\n",
    "\n",
    "sns.barplot(data = sales_state, x='Occupation',y='Orders')"
   ]
  },
  {
   "cell_type": "code",
   "execution_count": 126,
   "id": "53759abf-6765-4772-aec5-e16e911aabf3",
   "metadata": {},
   "outputs": [
    {
     "data": {
      "image/png": "[encoded data removed]",
      "text/plain": [
       "<Figure size 1500x500 with 1 Axes>"
      ]
     },
     "metadata": {},
     "output_type": "display_data"
    }
   ],
   "source": [
    "#plots\n",
    "sns.barplot(data = data_occupation , x = \"Amount\" , y = \"Occupation\")\n",
    " # Barplot for purchase power\n",
    "\n",
    "sns.barplot(y = 'Occupation', x = 'Amount', orient = 'h', \n",
    "            data = data_occupation, ax = ax[1])\n",
    "ax[1].set_title('Purchase - Occupation')\n",
    "plt.show()"
   ]
  },
  {
   "cell_type": "markdown",
   "id": "c5ba26a9-8132-45dc-a2a2-ccf49ec7d885",
   "metadata": {},
   "source": [
    "### Conclusion"
   ]
  },
  {
   "cell_type": "markdown",
   "id": "eaef90b7-6a49-4233-abbc-cf7e9dba67c2",
   "metadata": {},
   "source": [
    "#### People from IT Sector are purchasing morre products"
   ]
  },
  {
   "cell_type": "markdown",
   "id": "a6fa364a-7930-4d3b-b9a6-a74f97baa582",
   "metadata": {},
   "source": [
    "#### Product_ID"
   ]
  },
  {
   "cell_type": "code",
   "execution_count": 127,
   "id": "10c5532c-06c0-4b55-932a-6cdd6e1b7c8a",
   "metadata": {},
   "outputs": [
    {
     "data": {
      "text/html": [
       "<div>\n",
       "<style scoped>\n",
       "    .dataframe tbody tr th:only-of-type {\n",
       "        vertical-align: middle;\n",
       "    }\n",
       "\n",
       "    .dataframe tbody tr th {\n",
       "        vertical-align: top;\n",
       "    }\n",
       "\n",
       "    .dataframe thead th {\n",
       "        text-align: right;\n",
       "    }\n",
       "</style>\n",
       "<table border=\"1\" class=\"dataframe\">\n",
       "  <thead>\n",
       "    <tr style=\"text-align: right;\">\n",
       "      <th></th>\n",
       "      <th>Product_ID</th>\n",
       "      <th>Amount</th>\n",
       "    </tr>\n",
       "  </thead>\n",
       "  <tbody>\n",
       "    <tr>\n",
       "      <th>1678</th>\n",
       "      <td>P00265242</td>\n",
       "      <td>561461.0</td>\n",
       "    </tr>\n",
       "    <tr>\n",
       "      <th>1146</th>\n",
       "      <td>P00184942</td>\n",
       "      <td>401816.0</td>\n",
       "    </tr>\n",
       "    <tr>\n",
       "      <th>644</th>\n",
       "      <td>P00110942</td>\n",
       "      <td>400899.0</td>\n",
       "    </tr>\n",
       "    <tr>\n",
       "      <th>396</th>\n",
       "      <td>P00059442</td>\n",
       "      <td>359230.0</td>\n",
       "    </tr>\n",
       "    <tr>\n",
       "      <th>654</th>\n",
       "      <td>P00112142</td>\n",
       "      <td>341020.0</td>\n",
       "    </tr>\n",
       "  </tbody>\n",
       "</table>\n",
       "</div>"
      ],
      "text/plain": [
       "     Product_ID    Amount\n",
       "1678  P00265242  561461.0\n",
       "1146  P00184942  401816.0\n",
       "644   P00110942  400899.0\n",
       "396   P00059442  359230.0\n",
       "654   P00112142  341020.0"
      ]
     },
     "execution_count": 127,
     "metadata": {},
     "output_type": "execute_result"
    }
   ],
   "source": [
    "data_product_id = df.groupby(['Product_ID'], as_index = False)['Amount'].sum().sort_values(by='Amount',ascending=False).head(5)\n",
    "data_product_id"
   ]
  },
  {
   "cell_type": "code",
   "execution_count": 129,
   "id": "8076c5a7-c40a-4d91-8e6b-7af74e148b65",
   "metadata": {},
   "outputs": [
    {
     "data": {
      "text/plain": [
       "<Axes: xlabel='Product_ID', ylabel='Orders'>"
      ]
     },
     "execution_count": 129,
     "metadata": {},
     "output_type": "execute_result"
    },
    {
     "data": {
      "image/png": "[encoded data removed]",
      "text/plain": [
       "<Figure size 1500x500 with 1 Axes>"
      ]
     },
     "metadata": {},
     "output_type": "display_data"
    }
   ],
   "source": [
    "sales_product_id = df.groupby(['Product_ID'],as_index=False)['Orders'].count().sort_values(by='Orders', ascending=False).head(5)\n",
    "\n",
    "sns.barplot(data = sales_product_id, x='Product_ID',y='Orders')"
   ]
  },
  {
   "cell_type": "code",
   "execution_count": 132,
   "id": "db11daeb-0a2f-4ef1-8c8e-d15ad10ca8b7",
   "metadata": {},
   "outputs": [
    {
     "data": {
      "image/png": "[encoded data removed]",
      "text/plain": [
       "<Figure size 1500x500 with 1 Axes>"
      ]
     },
     "metadata": {},
     "output_type": "display_data"
    }
   ],
   "source": [
    "#plots\n",
    "sns.barplot(data = data_product_id , x = \"Amount\" , y = \"Product_ID\")\n",
    " # Barplot for purchase power\n",
    "\n",
    "sns.barplot(y = 'Product_ID', x = 'Amount', orient = 'h', \n",
    "            data = data_product_id, ax = ax[1])\n",
    "ax[1].set_title('Purchase - Product_ID')\n",
    "plt.show()"
   ]
  },
  {
   "cell_type": "markdown",
   "id": "ac2632a3-48f8-4bfd-bdb7-e0cd2c34cdc2",
   "metadata": {},
   "source": [
    "### Overall Conclusion"
   ]
  },
  {
   "cell_type": "markdown",
   "id": "9789629a-1e8c-4629-988f-5c1ee25f5615",
   "metadata": {},
   "source": [
    "#### UnMarried Females from AgeGroup 26-35 from states UttarPradesh,Maharashtra,Karnataka Working in IT-Sector,HealthCare and Aviation spending more on Food,Clothing-Apperal and Footware and shoes"
   ]
  },
  {
   "cell_type": "code",
   "execution_count": null,
   "id": "4ce49fec-1c86-427d-8b96-acb3af56fedb",
   "metadata": {},
   "outputs": [],
   "source": []
  }
 ],
 "metadata": {
  "kernelspec": {
   "display_name": "Python 3 (ipykernel)",
   "language": "python",
   "name": "python3"
  },
  "language_info": {
   "codemirror_mode": {
    "name": "ipython",
    "version": 3
   },
   "file_extension": ".py",
   "mimetype": "text/x-python",
   "name": "python",
   "nbconvert_exporter": "python",
   "pygments_lexer": "ipython3",
   "version": "3.11.7"
  }
 },
 "nbformat": 4,
 "nbformat_minor": 5
}
